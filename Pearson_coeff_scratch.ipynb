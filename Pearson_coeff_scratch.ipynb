{
  "nbformat": 4,
  "nbformat_minor": 0,
  "metadata": {
    "colab": {
      "name": "Pearson_coeff_scratch.ipynb",
      "provenance": [],
      "authorship_tag": "ABX9TyN4pyyLy+DT9FKbYL3qSE6H",
      "include_colab_link": true
    },
    "kernelspec": {
      "name": "python3",
      "display_name": "Python 3"
    },
    "language_info": {
      "name": "python"
    }
  },
  "cells": [
    {
      "cell_type": "markdown",
      "metadata": {
        "id": "view-in-github",
        "colab_type": "text"
      },
      "source": [
        "<a href=\"https://colab.research.google.com/github/dikshap07/Linear-Algebra/blob/master/Pearson_coeff_scratch.ipynb\" target=\"_parent\"><img src=\"https://colab.research.google.com/assets/colab-badge.svg\" alt=\"Open In Colab\"/></a>"
      ]
    },
    {
      "cell_type": "code",
      "source": [
        "# Enter your code here. Read input from STDIN. Print output to STD\n",
        "\n",
        "# import numpy as np\n",
        "def cov(x,y):\n",
        "\n",
        "  mean_x = sum(x)/len(x)\n",
        "  mean_y = sum(y)/len(y)\n",
        "\n",
        "  print(\"mean_x\",mean_x)\n",
        "  print(\"mean_y\",mean_y)\n",
        "\n",
        "  cov = 0\n",
        "\n",
        "  for i in range(len(x)):   \n",
        "\n",
        "    cov += (x[i] - mean_x)*(y[i] - mean_y)\n",
        "    print(\"cov\",cov)\n",
        "  print(cov)\n",
        "\n",
        "  return cov/(len(x)) \n",
        "\n",
        "\n",
        "def sd(x):\n",
        "\n",
        "  mean = sum(x)/len(x)\n",
        "\n",
        "  num = 0\n",
        "\n",
        "  for i in range(len(x)):\n",
        "\n",
        "    num += (x[i] - mean)**2\n",
        "\n",
        "  print(\"num\",num)\n",
        "\n",
        "  \n",
        "  return (num/(len(x)))**(0.5)\n",
        "\n",
        "\n",
        "\n",
        "def pearson_coeff(x,y):\n",
        "\n",
        "  print(\"product\",sd(x)*sd(y))\n",
        "\n",
        "  return round((cov(x,y))/(sd(x)*sd(y)),3)\n",
        "\n",
        "\n",
        "Physics_Scores = \"15  12  8   8   7   7   7   6   5   3\"\n",
        "History_Scores  = \"10  25  17  11  13  17  20  13  9   15\"\n",
        "phy = Physics_Scores.split(\"  \")\n",
        "his = History_Scores.split(\"  \")\n",
        "\n",
        "phy = list(map(lambda x: int(x),phy))\n",
        "his = list(map(lambda x: int(x),his))\n",
        "\n",
        "print(str(pearson_coeff(phy,his)))\n"
      ],
      "metadata": {
        "id": "b4M8Mkw7F9Lf"
      },
      "execution_count": null,
      "outputs": []
    }
  ]
}